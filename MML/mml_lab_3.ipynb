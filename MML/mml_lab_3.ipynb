{
 "cells": [
  {
   "cell_type": "code",
   "execution_count": 1,
   "id": "8dc265ed",
   "metadata": {},
   "outputs": [
    {
     "name": "stdout",
     "output_type": "stream",
     "text": [
      "Image features: (5000, 2048)\n",
      "Captions: 5000\n"
     ]
    }
   ],
   "source": [
    "import numpy as np\n",
    "\n",
    "# Load the features\n",
    "images = np.load(\"coco_features/images.npy\")\n",
    "captions = np.load(\"coco_features/captions.npy\", allow_pickle=True)\n",
    "\n",
    "print(\"Image features:\", images.shape)   # (N, 2048)\n",
    "print(\"Captions:\", len(captions))        # N arrays of shape (M, 768)"
   ]
  },
  {
   "cell_type": "code",
   "execution_count": 2,
   "id": "4bf83812",
   "metadata": {},
   "outputs": [
    {
     "name": "stdout",
     "output_type": "stream",
     "text": [
      "Text features: (5000, 768)\n"
     ]
    }
   ],
   "source": [
    "# Align text features (average across captions for each image)\n",
    "text_features = []\n",
    "for caps in captions:\n",
    "    if len(caps) > 0:\n",
    "        text_features.append(np.mean(caps, axis=0))\n",
    "    else:\n",
    "        text_features.append(np.zeros(768))  # if no captions\n",
    "text_features = np.array(text_features)\n",
    "\n",
    "print(\"Text features:\", text_features.shape)  # (N, 768)"
   ]
  },
  {
   "cell_type": "code",
   "execution_count": 3,
   "id": "3f1c0fed",
   "metadata": {},
   "outputs": [
    {
     "name": "stdout",
     "output_type": "stream",
     "text": [
      "Fused features: (5000, 2816)\n"
     ]
    }
   ],
   "source": [
    "fused_features = np.concatenate([images, text_features], axis=1)\n",
    "print(\"Fused features:\", fused_features.shape)  # (N, 2048+768=2816)"
   ]
  },
  {
   "cell_type": "code",
   "execution_count": 4,
   "id": "221fb8c7",
   "metadata": {},
   "outputs": [
    {
     "name": "stdout",
     "output_type": "stream",
     "text": [
      "Epoch 1, Loss: 2.3222\n",
      "Epoch 2, Loss: 2.3590\n",
      "Epoch 3, Loss: 2.3018\n",
      "Epoch 4, Loss: 2.3114\n",
      "Epoch 5, Loss: 2.2720\n"
     ]
    }
   ],
   "source": [
    "import torch\n",
    "import torch.nn as nn\n",
    "import torch.optim as optim\n",
    "from torch.utils.data import TensorDataset, DataLoader\n",
    "\n",
    "# Convert to torch tensors\n",
    "X = torch.tensor(fused_features, dtype=torch.float32)\n",
    "\n",
    "# Example: dummy labels (replace with your own task labels, e.g. categories, sentiments, etc.)\n",
    "y = torch.randint(0, 10, (X.shape[0],))  # 10-class classification\n",
    "\n",
    "dataset = TensorDataset(X, y)\n",
    "loader = DataLoader(dataset, batch_size=64, shuffle=True)\n",
    "\n",
    "# Simple classifier\n",
    "class FusionClassifier(nn.Module):\n",
    "    def __init__(self, input_dim=2816, hidden_dim=512, num_classes=10):\n",
    "        super().__init__()\n",
    "        self.fc1 = nn.Linear(input_dim, hidden_dim)\n",
    "        self.relu = nn.ReLU()\n",
    "        self.fc2 = nn.Linear(hidden_dim, num_classes)\n",
    "    \n",
    "    def forward(self, x):\n",
    "        x = self.relu(self.fc1(x))\n",
    "        return self.fc2(x)\n",
    "\n",
    "model = FusionClassifier()\n",
    "criterion = nn.CrossEntropyLoss()\n",
    "optimizer = optim.Adam(model.parameters(), lr=1e-3)\n",
    "\n",
    "# Training loop (simple)\n",
    "for epoch in range(5):\n",
    "    for batch_X, batch_y in loader:\n",
    "        optimizer.zero_grad()\n",
    "        outputs = model(batch_X)\n",
    "        loss = criterion(outputs, batch_y)\n",
    "        loss.backward()\n",
    "        optimizer.step()\n",
    "    print(f\"Epoch {epoch+1}, Loss: {loss.item():.4f}\")\n"
   ]
  },
  {
   "cell_type": "code",
   "execution_count": null,
   "id": "b34148aa",
   "metadata": {},
   "outputs": [],
   "source": []
  }
 ],
 "metadata": {
  "kernelspec": {
   "display_name": "mml-venv",
   "language": "python",
   "name": "python3"
  },
  "language_info": {
   "codemirror_mode": {
    "name": "ipython",
    "version": 3
   },
   "file_extension": ".py",
   "mimetype": "text/x-python",
   "name": "python",
   "nbconvert_exporter": "python",
   "pygments_lexer": "ipython3",
   "version": "3.12.3"
  }
 },
 "nbformat": 4,
 "nbformat_minor": 5
}
